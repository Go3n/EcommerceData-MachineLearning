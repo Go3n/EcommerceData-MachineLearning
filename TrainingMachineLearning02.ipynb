{
 "cells": [
  {
   "cell_type": "markdown",
   "metadata": {},
   "source": [
    "# Linear Regression - Project\n",
    "\n",
    "You are an employment contract with a New York City company, but it also has a style and fashion consulting service in the store. Clients enter a store, have sessions / visits to a personal stylist, then can be directed to the house and receive a mobile application or website for a clothing they desire.\n",
    "\n",
    "The company is trying to get away from its experience in creating its own windows or on its website. They hired you without a contract to help them figure it out! Let's start!\n",
    "\n",
    "Just follow the steps below to analyze customer data (if it is, do not worry, do not have actual numbers for credit cards or emails)."
   ]
  },
  {
   "cell_type": "markdown",
   "metadata": {},
   "source": [
    "## Imports\n",
    "**Import** pandas, numpy, matplotlib,e seaborn. % matplotlib inline"
   ]
  },
  {
   "cell_type": "code",
   "execution_count": 6,
   "metadata": {},
   "outputs": [],
   "source": [
    "import pandas as pd\n",
    "import numpy as np\n",
    "import matplotlib.pyplot as plt\n",
    "import seaborn as sns\n",
    "\n",
    "%matplotlib inline"
   ]
  },
  {
   "cell_type": "markdown",
   "metadata": {},
   "source": [
    "## Get data\n",
    "\n",
    "We will work with the csv file of the company's Ecommerce Customers. It has customer information such as Email, Address and Avatar color. Then it also has columns of numeric values.\n",
    "\n",
    "* Avg. Session Length: Average time for style consulting sessions in the store.\n",
    "* Time on App: Average time spent in the app in minutes.\n",
    "* Time on Website: Average time spent on the site in minutes.\n",
    "* Lenght of Membership: For how many years the client is a member.\n",
    "\n",
    "**Read in the csv file of the Ecommerce Customers as a DataFrame called Clients.**"
   ]
  },
  {
   "cell_type": "code",
   "execution_count": 21,
   "metadata": {},
   "outputs": [],
   "source": [
    "customers = pd.read_csv(\"Ecommerce Customers\")"
   ]
  },
  {
   "cell_type": "code",
   "execution_count": 22,
   "metadata": {},
   "outputs": [
    {
     "data": {
      "text/html": [
       "<div>\n",
       "<style scoped>\n",
       "    .dataframe tbody tr th:only-of-type {\n",
       "        vertical-align: middle;\n",
       "    }\n",
       "\n",
       "    .dataframe tbody tr th {\n",
       "        vertical-align: top;\n",
       "    }\n",
       "\n",
       "    .dataframe thead th {\n",
       "        text-align: right;\n",
       "    }\n",
       "</style>\n",
       "<table border=\"1\" class=\"dataframe\">\n",
       "  <thead>\n",
       "    <tr style=\"text-align: right;\">\n",
       "      <th></th>\n",
       "      <th>Email</th>\n",
       "      <th>Address</th>\n",
       "      <th>Avatar</th>\n",
       "      <th>Avg. Session Length</th>\n",
       "      <th>Time on App</th>\n",
       "      <th>Time on Website</th>\n",
       "      <th>Length of Membership</th>\n",
       "      <th>Yearly Amount Spent</th>\n",
       "    </tr>\n",
       "  </thead>\n",
       "  <tbody>\n",
       "    <tr>\n",
       "      <th>0</th>\n",
       "      <td>mstephenson@fernandez.com</td>\n",
       "      <td>835 Frank Tunnel\\nWrightmouth, MI 82180-9605</td>\n",
       "      <td>Violet</td>\n",
       "      <td>34.497268</td>\n",
       "      <td>12.655651</td>\n",
       "      <td>39.577668</td>\n",
       "      <td>4.082621</td>\n",
       "      <td>587.951054</td>\n",
       "    </tr>\n",
       "    <tr>\n",
       "      <th>1</th>\n",
       "      <td>hduke@hotmail.com</td>\n",
       "      <td>4547 Archer Common\\nDiazchester, CA 06566-8576</td>\n",
       "      <td>DarkGreen</td>\n",
       "      <td>31.926272</td>\n",
       "      <td>11.109461</td>\n",
       "      <td>37.268959</td>\n",
       "      <td>2.664034</td>\n",
       "      <td>392.204933</td>\n",
       "    </tr>\n",
       "    <tr>\n",
       "      <th>2</th>\n",
       "      <td>pallen@yahoo.com</td>\n",
       "      <td>24645 Valerie Unions Suite 582\\nCobbborough, D...</td>\n",
       "      <td>Bisque</td>\n",
       "      <td>33.000915</td>\n",
       "      <td>11.330278</td>\n",
       "      <td>37.110597</td>\n",
       "      <td>4.104543</td>\n",
       "      <td>487.547505</td>\n",
       "    </tr>\n",
       "    <tr>\n",
       "      <th>3</th>\n",
       "      <td>riverarebecca@gmail.com</td>\n",
       "      <td>1414 David Throughway\\nPort Jason, OH 22070-1220</td>\n",
       "      <td>SaddleBrown</td>\n",
       "      <td>34.305557</td>\n",
       "      <td>13.717514</td>\n",
       "      <td>36.721283</td>\n",
       "      <td>3.120179</td>\n",
       "      <td>581.852344</td>\n",
       "    </tr>\n",
       "    <tr>\n",
       "      <th>4</th>\n",
       "      <td>mstephens@davidson-herman.com</td>\n",
       "      <td>14023 Rodriguez Passage\\nPort Jacobville, PR 3...</td>\n",
       "      <td>MediumAquaMarine</td>\n",
       "      <td>33.330673</td>\n",
       "      <td>12.795189</td>\n",
       "      <td>37.536653</td>\n",
       "      <td>4.446308</td>\n",
       "      <td>599.406092</td>\n",
       "    </tr>\n",
       "  </tbody>\n",
       "</table>\n",
       "</div>"
      ],
      "text/plain": [
       "                           Email  \\\n",
       "0      mstephenson@fernandez.com   \n",
       "1              hduke@hotmail.com   \n",
       "2               pallen@yahoo.com   \n",
       "3        riverarebecca@gmail.com   \n",
       "4  mstephens@davidson-herman.com   \n",
       "\n",
       "                                             Address            Avatar  \\\n",
       "0       835 Frank Tunnel\\nWrightmouth, MI 82180-9605            Violet   \n",
       "1     4547 Archer Common\\nDiazchester, CA 06566-8576         DarkGreen   \n",
       "2  24645 Valerie Unions Suite 582\\nCobbborough, D...            Bisque   \n",
       "3   1414 David Throughway\\nPort Jason, OH 22070-1220       SaddleBrown   \n",
       "4  14023 Rodriguez Passage\\nPort Jacobville, PR 3...  MediumAquaMarine   \n",
       "\n",
       "   Avg. Session Length  Time on App  Time on Website  Length of Membership  \\\n",
       "0            34.497268    12.655651        39.577668              4.082621   \n",
       "1            31.926272    11.109461        37.268959              2.664034   \n",
       "2            33.000915    11.330278        37.110597              4.104543   \n",
       "3            34.305557    13.717514        36.721283              3.120179   \n",
       "4            33.330673    12.795189        37.536653              4.446308   \n",
       "\n",
       "   Yearly Amount Spent  \n",
       "0           587.951054  \n",
       "1           392.204933  \n",
       "2           487.547505  \n",
       "3           581.852344  \n",
       "4           599.406092  "
      ]
     },
     "execution_count": 22,
     "metadata": {},
     "output_type": "execute_result"
    }
   ],
   "source": [
    "customers.head()"
   ]
  },
  {
   "cell_type": "code",
   "execution_count": 23,
   "metadata": {},
   "outputs": [
    {
     "name": "stdout",
     "output_type": "stream",
     "text": [
      "<class 'pandas.core.frame.DataFrame'>\n",
      "RangeIndex: 500 entries, 0 to 499\n",
      "Data columns (total 8 columns):\n",
      "Email                   500 non-null object\n",
      "Address                 500 non-null object\n",
      "Avatar                  500 non-null object\n",
      "Avg. Session Length     500 non-null float64\n",
      "Time on App             500 non-null float64\n",
      "Time on Website         500 non-null float64\n",
      "Length of Membership    500 non-null float64\n",
      "Yearly Amount Spent     500 non-null float64\n",
      "dtypes: float64(5), object(3)\n",
      "memory usage: 31.3+ KB\n"
     ]
    }
   ],
   "source": [
    "customers.info()"
   ]
  },
  {
   "cell_type": "code",
   "execution_count": 24,
   "metadata": {},
   "outputs": [
    {
     "data": {
      "text/html": [
       "<div>\n",
       "<style scoped>\n",
       "    .dataframe tbody tr th:only-of-type {\n",
       "        vertical-align: middle;\n",
       "    }\n",
       "\n",
       "    .dataframe tbody tr th {\n",
       "        vertical-align: top;\n",
       "    }\n",
       "\n",
       "    .dataframe thead th {\n",
       "        text-align: right;\n",
       "    }\n",
       "</style>\n",
       "<table border=\"1\" class=\"dataframe\">\n",
       "  <thead>\n",
       "    <tr style=\"text-align: right;\">\n",
       "      <th></th>\n",
       "      <th>Avg. Session Length</th>\n",
       "      <th>Time on App</th>\n",
       "      <th>Time on Website</th>\n",
       "      <th>Length of Membership</th>\n",
       "      <th>Yearly Amount Spent</th>\n",
       "    </tr>\n",
       "  </thead>\n",
       "  <tbody>\n",
       "    <tr>\n",
       "      <th>count</th>\n",
       "      <td>500.000000</td>\n",
       "      <td>500.000000</td>\n",
       "      <td>500.000000</td>\n",
       "      <td>500.000000</td>\n",
       "      <td>500.000000</td>\n",
       "    </tr>\n",
       "    <tr>\n",
       "      <th>mean</th>\n",
       "      <td>33.053194</td>\n",
       "      <td>12.052488</td>\n",
       "      <td>37.060445</td>\n",
       "      <td>3.533462</td>\n",
       "      <td>499.314038</td>\n",
       "    </tr>\n",
       "    <tr>\n",
       "      <th>std</th>\n",
       "      <td>0.992563</td>\n",
       "      <td>0.994216</td>\n",
       "      <td>1.010489</td>\n",
       "      <td>0.999278</td>\n",
       "      <td>79.314782</td>\n",
       "    </tr>\n",
       "    <tr>\n",
       "      <th>min</th>\n",
       "      <td>29.532429</td>\n",
       "      <td>8.508152</td>\n",
       "      <td>33.913847</td>\n",
       "      <td>0.269901</td>\n",
       "      <td>256.670582</td>\n",
       "    </tr>\n",
       "    <tr>\n",
       "      <th>25%</th>\n",
       "      <td>32.341822</td>\n",
       "      <td>11.388153</td>\n",
       "      <td>36.349257</td>\n",
       "      <td>2.930450</td>\n",
       "      <td>445.038277</td>\n",
       "    </tr>\n",
       "    <tr>\n",
       "      <th>50%</th>\n",
       "      <td>33.082008</td>\n",
       "      <td>11.983231</td>\n",
       "      <td>37.069367</td>\n",
       "      <td>3.533975</td>\n",
       "      <td>498.887875</td>\n",
       "    </tr>\n",
       "    <tr>\n",
       "      <th>75%</th>\n",
       "      <td>33.711985</td>\n",
       "      <td>12.753850</td>\n",
       "      <td>37.716432</td>\n",
       "      <td>4.126502</td>\n",
       "      <td>549.313828</td>\n",
       "    </tr>\n",
       "    <tr>\n",
       "      <th>max</th>\n",
       "      <td>36.139662</td>\n",
       "      <td>15.126994</td>\n",
       "      <td>40.005182</td>\n",
       "      <td>6.922689</td>\n",
       "      <td>765.518462</td>\n",
       "    </tr>\n",
       "  </tbody>\n",
       "</table>\n",
       "</div>"
      ],
      "text/plain": [
       "       Avg. Session Length  Time on App  Time on Website  \\\n",
       "count           500.000000   500.000000       500.000000   \n",
       "mean             33.053194    12.052488        37.060445   \n",
       "std               0.992563     0.994216         1.010489   \n",
       "min              29.532429     8.508152        33.913847   \n",
       "25%              32.341822    11.388153        36.349257   \n",
       "50%              33.082008    11.983231        37.069367   \n",
       "75%              33.711985    12.753850        37.716432   \n",
       "max              36.139662    15.126994        40.005182   \n",
       "\n",
       "       Length of Membership  Yearly Amount Spent  \n",
       "count            500.000000           500.000000  \n",
       "mean               3.533462           499.314038  \n",
       "std                0.999278            79.314782  \n",
       "min                0.269901           256.670582  \n",
       "25%                2.930450           445.038277  \n",
       "50%                3.533975           498.887875  \n",
       "75%                4.126502           549.313828  \n",
       "max                6.922689           765.518462  "
      ]
     },
     "execution_count": 24,
     "metadata": {},
     "output_type": "execute_result"
    }
   ],
   "source": [
    "customers.describe()"
   ]
  },
  {
   "cell_type": "code",
   "execution_count": 28,
   "metadata": {},
   "outputs": [
    {
     "data": {
      "text/plain": [
       "<seaborn.axisgrid.JointGrid at 0x1a23b0ba20>"
      ]
     },
     "execution_count": 28,
     "metadata": {},
     "output_type": "execute_result"
    },
    {
     "data": {
      "image/png": "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\n",
      "text/plain": [
       "<Figure size 432x432 with 3 Axes>"
      ]
     },
     "metadata": {
      "needs_background": "light"
     },
     "output_type": "display_data"
    }
   ],
   "source": [
    "sns.jointplot(x='Time on Website', y='Yearly Amount Spent', data=customers)"
   ]
  },
  {
   "cell_type": "code",
   "execution_count": 29,
   "metadata": {},
   "outputs": [
    {
     "data": {
      "text/plain": [
       "<seaborn.axisgrid.JointGrid at 0x1a239edb70>"
      ]
     },
     "execution_count": 29,
     "metadata": {},
     "output_type": "execute_result"
    },
    {
     "data": {
      "image/png": "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