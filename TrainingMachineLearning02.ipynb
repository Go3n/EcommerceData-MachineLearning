{
 "cells": [
  {
   "cell_type": "markdown",
   "metadata": {},
   "source": [
    "# Linear Regression - Project\n",
    "\n",
    "You are an employment contract with a New York City company, but it also has a style and fashion consulting service in the store. Clients enter a store, have sessions / visits to a personal stylist, then can be directed to the house and receive a mobile application or website for a clothing they desire.\n",
    "\n",
    "The company is trying to get away from its experience in creating its own windows or on its website. They hired you without a contract to help them figure it out! Let's start!\n",
    "\n",
    "Just follow the steps below to analyze customer data (if it is, do not worry, do not have actual numbers for credit cards or emails)."
   ]
  },
  {
   "cell_type": "markdown",
   "metadata": {},
   "source": [
    "## Imports\n",
    "**Import** pandas, numpy, matplotlib,e seaborn. % matplotlib inline"
   ]
  },
  {
   "cell_type": "code",
   "execution_count": 6,
   "metadata": {},
   "outputs": [],
   "source": [
    "import pandas as pd\n",
    "import numpy as np\n",
    "import matplotlib.pyplot as plt\n",
    "import seaborn as sns\n",
    "\n",
    "%matplotlib inline"
   ]
  },
  {
   "cell_type": "markdown",
   "metadata": {},
   "source": [
    "## Get data\n",
    "\n",
    "We will work with the csv file of the company's Ecommerce Customers. It has customer information such as Email, Address and Avatar color. Then it also has columns of numeric values.\n",
    "\n",
    "* Avg. Session Length: Average time for style consulting sessions in the store.\n",
    "* Time on App: Average time spent in the app in minutes.\n",
    "* Time on Website: Average time spent on the site in minutes.\n",
    "* Lenght of Membership: For how many years the client is a member.\n",
    "\n",
    "**Read in the csv file of the Ecommerce Customers as a DataFrame called Clients.**"
   ]
  },
  {
   "cell_type": "code",
   "execution_count": 21,
   "metadata": {},
   "outputs": [],
   "source": [
    "customers = pd.read_csv(\"Ecommerce Customers\")"
   ]
  },
  {
   "cell_type": "code",
   "execution_count": 22,
   "metadata": {},
   "outputs": [
    {
     "data": {
      "text/html": [
       "<div>\n",
       "<style scoped>\n",
       "    .dataframe tbody tr th:only-of-type {\n",
       "        vertical-align: middle;\n",
       "    }\n",
       "\n",
       "    .dataframe tbody tr th {\n",
       "        vertical-align: top;\n",
       "    }\n",
       "\n",
       "    .dataframe thead th {\n",
       "        text-align: right;\n",
       "    }\n",
       "</style>\n",
       "<table border=\"1\" class=\"dataframe\">\n",
       "  <thead>\n",
       "    <tr style=\"text-align: right;\">\n",
       "      <th></th>\n",
      