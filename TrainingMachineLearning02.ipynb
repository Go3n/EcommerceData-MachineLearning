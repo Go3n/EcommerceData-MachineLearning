{
 "cells": [
  {
   "cell_type": "markdown",
   "metadata": {},
   "source": [
    "# Linear Regression - Project\n",
    "\n",
    "You are an employment contract with a New York City company, but it also has a style and fashion consulting service in th