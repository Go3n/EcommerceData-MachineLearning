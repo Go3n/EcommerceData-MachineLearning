{
 "cells": [
  {
   "cell_type": "markdown",
   "metadata": {},
   "source": [
    "# Linear Regression - Project\n",
    "\n",
    "You are an employment contract with a New York City company, but it also has a style and fashion consulting service in the store. Clients enter a store, have sessions / visits to a personal stylist, then can be directed to the house and receive a mobile application or website for a clothing they desire.\n",
    "\n",
    "The company is trying to get away from its experience in creating its own windows or on its website. They hired you without a contract to help them figure it out! Let's start!\n",
    "\n",
    "Just follow the steps below to analyze customer data (if it is, do not worry, do not have actual numbers for credit cards or emails)."
   ]
  },
  {
   "cell_type": "markdown",
   "metadata": {},
   "source": [
    "## Imports\n",
    "**Import** pandas, numpy, matplotlib,e seaborn. % matplotlib inline"
   ]
  },
  {
   "cell_type": "code",
   "execution_count": 6,
   "metadata": {},
   "outputs": [],
   "source": [
    "import pandas as pd\n",
    "import numpy as np\n",
    "import matplotlib.pyplot as plt\n",
    "import seaborn as sns\n",
    "\n",
    "%matplotlib inline"
   ]
  },
  {
   "cell_type": "markdown",
   "metadata": {},
   "source": [
    "## Get data\n",
    "\n",
    "We will work with the csv file of the company's Ecommerce Customers. It has customer information such as Email, Address and Avatar color. Then it also has columns of numeric values.\n",
    "\n",
    "* Avg. Session Length: Average time for style consulting sessions in the store.\n",
    "* Time on App: Average time spent in the app in minutes.\n",
    "* Time on Website: Average time spent on the site in minutes.\n",
    "* Lenght of Membership: For how many years the client is a member.\n",
    "\n",
    "**Read in the csv file of the Ecommerce Customers as a DataFrame called Clients.**"
   ]
  },
  {
   "cell_type": "code",
   "execution_count": 21,
   "metadata": {},
   "outputs": [],
   "source": [
    "customers = pd.read_csv(\"Ecommerce Customers\")"
   ]
  },
  {
   "cell_type": "code",
   "execution_count": 22,
   "metadata": {},
   "outputs": [
    {
     "data": {
      "text/html": [
       "<div>\n",
       "<style scoped>\n",
       "    .dataframe tbody tr th:only-of-type {\n",
       "        vertical-align: middle;\n",
       "    }\n",
       "\n",
       "    .dataframe tbody tr th {\n",
       "        vertical-align: top;\n",
       "    }\n",
       "\n",
       "    .dataframe thead th {\n",
       "        text-align: right;\n",
       "    }\n",
       "</style>\n",
       "<table border=\"1\" class=\"dataframe\">\n",
       "  <thead>\n",
       "    <tr style=\"text-align: right;\">\n",
       "      <th></th>\n",
       "      <th>Email</th>\n",
       "      <th>Address</th>\n",
       "      <th>Avatar</th>\n",
       "      <th>Avg. Session Length</th>\n",
       "      <th>Time on App</th>\n",
       "      <th>Time on Website</th>\n",
       "      <th>Length of Membership</th>\n",
       "      <th>Yearly Amount Spent</th>\n",
       "    </tr>\n",
       "  </thead>\n",
       "  <tbody>\n",
       "    <tr>\n",
       "      <th>0</th>\n",
       "      <td>mstephenson@fernandez.com</td>\n",
       "      <td>835 Frank Tunnel\\nWrightmouth, MI 82180-9605</td>\n",
       "      <td>Violet</td>\n",
       "      <td>34.497268</td>\n",
       "      <td>12.655651</td>\n",
       "      <td>39.577668</td>\n",
       "      <td>4.082621</td>\n",
       "      <td>587.951054</td>\n",
       "    </tr>\n",
       "    <tr>\n",
       "      <th>1</th>\n",
       "      <td>hduke@hotmail.com</td>\n",
       "      <td>4547 Archer Common\\nDiazchester, CA 06566-8576</td>\n",
       "      <td>DarkGreen</td>\n",
       "      <td>31.926272</td>\n",
       "      <td>11.109461</td>\n",
       "      <td>37.268959</td>\n",
       "      <td>2.664034</td>\n",
       "      <td>392.204933</td>\n",
       "    </tr>\n",
       "    <tr>\n",
       "      <th>2</th>\n",
       "      <td>pallen@yahoo.com</td>\n",
       "      <td>24645 Valerie Unions Suite 582\\nCobbborough, D...</td>\n",
       "      <td>Bisque</td>\n",
       "      <td>33.000915</td>\n",
       "      <td>11.330278</td>\n",
       "      <td>37.110597</td>\n",
       "      <td>4.104543</td>\n",
       "      <td>487.547505</td>\n",
       "    </tr>\n",
       "    <tr>\n",
       "      <th>3</th>\n",
       "      <td>riverarebecca@gmail.com</td>\n",
       "      <td>1414 David Throughway\\nPort Jason, OH 22070-1220</td>\n",
       "      <td>SaddleBrown</td>\n",
       "      <td>34.305557</td>\n",
       "      <td>13.717514</td>\n",
       "      <td>36.721283</td>\n",
       "      <td>3.120179</td>\n",
       "      <td>581.852344</td>\n",
       "    </tr>\n",
       "    <tr>\n",
       "      <th>4</th>\n",
       "      <td>mstephens@davidson-herman.com</td>\n",
       "      <td>14023 Rodriguez Passage\\nPort Jacobville, PR 3...</td>\n",
       "      <td>MediumAquaMarine</td>\n",
       "      <td>33.330673</td>\n",
       "      <td>12.795189</td>\n",
       "      <td>37.536653</td>\n",
       "      <td>4.446308</td>\n",
       "      <td>599.406092</td>\n",
       "    </tr>\n",
       "  </tbody>\n",
       "</table>\n",
       "</div>"
      ],
      "text/plain": [
       "                           Email  \\\n",
       "0      mstephenson@fernandez.com   \n",
       "1              hduke@hotmail.com   \n",
       "2               pallen@yahoo.com   \n",
       "3        riverarebecca@gmail.com   \n",
       "4  mstephens@davidson-herman.com   \n",
       "\n",
       "                                             Address            Avatar  \\\n",
       "0       835 Frank Tunnel\\nWrightmouth, MI 82180-9605            Violet   \n",
       "1     4547 Archer Common\\nDiazchester, CA 06566-8576         DarkGreen   \n",
       "2  24645 Valerie Unions Suite 582\\nCobbborough, D...            Bisque   \n",
       "3   1414 David Throughway\\nPort Jason, OH 22070-1220       SaddleBrown   \n",
       "4  14023 Rodriguez Passage\\nPort Jacobville, PR 3...  MediumAquaMarine   \n",
       "\n",
       "   Avg. Session Length  Time on App  Time on Website  Length of Membership  \\\n",
       "0            34.497268    12.655651        39.577668              4.082621   \n",
       "1            31.926272    11.109461        37.268959              2.664034   \n",
       "2            33.000915    11.330278        37.110597              4.104543   \n",
       "3            34.305557    13.717514        36.721283              3.120179   \n",
       "4            33.330673    12.795189        37.536653              4.446308   \n",
       "\n",
       "   Yearly Amount Spent  \n",
       "0           587.951054  \n",
       "1           392.204933  \n",
       "2           487.547505  \n",
       "3           581.852344  \n",
       "4           599.406092  "
      ]
     },
     "execution_count": 22,
     "metadata": {},
     "output_type": "execute_result"
    }
   ],
   "source": [
    "customers.head()"
   ]
  },
  {
   "cell_type": "code",
   "execution_count": 23,
   "metadata": {},
   "outputs": [
    {
     "name": "stdout",
     "output_type": "stream",
     "text": [
      "<class 'pandas.core.frame.DataFrame'>\n",
      "RangeIndex: 500 entries, 0 to 499\n",
      "Data columns (total 8 columns):\n",
      "Email                   500 non-null object\n",
      "Address                 500 non-null object\n",
      "Avatar                  500 non-null object\n",
      "Avg. Session Length     500 non-null float64\n",
      "Time on App             500 non-null float64\n",
      "Time on Website         500 non-null float64\n",
      "Length of Membership    500 non-null float64\n",
      "Yearly Amount Spent     500 non-null float64\n",
      "dtypes: float64(5), object(3)\n",
      "memory usage: 31.3+ KB\n"
     ]
    }
   ],
   "source": [
    "customers.info()"
   ]
  },
  {
   "cell_type": "code",
   "execution_count": 24,
   "metadata": {},
   "outputs": [
    {
     "data": {
      "text/html": [
       "<div>\n",
       "<style scoped>\n",
       "    .dataframe tbody tr th:only-of-type {\n",
       "        vertical-align: middle;\n",
       "    }\n",
       "\n",
       "    .dataframe tbody tr th {\n",
       "        vertical-align: top;\n",
       "    }\n",
       "\n",
       "    .dataframe thead th {\n",
       "        text-align: right;\n",
       "    }\n",
       "</style>\n",
       "<table border=\"1\" class=\"dataframe\">\n",
       "  <thead>\n",
       "    <tr style=\"text-align: right;\">\n",
       "      <th></th>\n",
       "      <th>Avg. Session Length</th>\n",
       "      <th>Time on App</th>\n",
       "      <th>Time on Website</th>\n",
       "      <th>Length of Membership</th>\n",
       "      <th>Yearly Amount Spent</th>\n",
       "    </tr>\n",
       "  </thead>\n",
       "  <tbody>\n",
       "    <tr>\n",
       "      <th>count</th>\n",
       "      <td>500.000000</td>\n",
       "      <td>500.000000</td>\n",
       "      <td>500.000000</td>\n",
       "      <td>500.000000</td>\n",
       "      <td>500.000000</td>\n",
       "    </tr>\n",
       "    <tr>\n",
       "      <th>mean</th>\n",
       "      <td>33.053194</td>\n",
       "      <td>12.052488</td>\n",
       "      <td>37.060445</td>\n",
       "      <td>3.533462</td>\n",
       "      <td>499.314038</td>\n",
       "    </tr>\n",
       "    <tr>\n",
       "      <th>std</th>\n",
       "      <td>0.992563</td>\n",
       "      <td>0.994216</td>\n",
       "      <td>1.010489</td>\n",
       "      <td>0.999278</td>\n",
       "      <td>79.314782</td>\n",
       "    </tr>\n",
       "    <tr>\n",
       "      <th>min</th>\n",
       "      <td>29.532429</td>\n",
       "      <td>8.508152</td>\n",
       "      <td>33.913847</td>\n",
       "      <td>0.269901</td>\n",
       "      <td>256.670582</td>\n",
       "    </tr>\n",
       "    <tr>\n",
       "      <th>25%</th>\n",
       "      <td>32.341822</td>\n",
       "      <td>11.388153</td>\n",
       "      <td>36.349257</td>\n",
       "      <td>2.930450</td>\n",
       "      <td>445.038277</td>\n",
       "    </tr>\n",
       "    <tr>\n",
       "      <th>50%</th>\n",
       "      <td>33.082008</td>\n",
       "      <td>11.983231</td>\n",
       "      <td>37.069367</td>\n",
       "      <td>3.533975</td>\n",
       "      <td>498.887875</td>\n",
       "    </tr>\n",
       "    <tr>\n",
       "      <th>75%</th>\n",
       "      <td>33.711985</td>\n",
       "      <td>12.753850</td>\n",
       "      <td>37.716432</td>\n",
       "      <td>4.126502</td>\n",
       "      <td>549.313828</td>\n",
       "    </tr>\n",
       "    <tr>\n",
       "      <th>max</th>\n",
       "      <td>36.139662</td>\n",
       "      <td>15.126994</td>\n",
       "      <td>40.005182</td>\n",
       "      <td>6.922689</td>\n",
       "      <td>765.518462</td>\n",
       "    </tr>\n",
       "  </tbody>\n",
       "</table>\n",
       "</div>"
      ],
      "text/plain": [
       "       Avg. Session Length  Time on App  Time on Website  \\\n",
       "count           500.000000   500.000000       500.000000   \n",
       "mean             33.053194    12.052488        37.060445   \n",
       "std               0.992563     0.994216         1.010489   \n",
       "min              29.532429     8.508152        33.913847   \n",
       "25%              32.341822    11.388153        36.349257   \n",
       "50%              33.082008    11.983231        37.069367   \n",
       "75%              33.711985    12.753850        37.716432   \n",
       "max              36.139662    15.126994        40.005182   \n",
       "\n",
       "       Length of Membership  Yearly Amount Spent  \n",
       "count            500.000000           500.000000  \n",
       "mean               3.533462           499.314038  \n",
       "std                0.999278            79.314782  \n",
       "min                0.269901           256.670582  \n",
       "25%                2.930450           445.038277  \n",
       "50%                3.533975           498.887875  \n",
       "75%                4.126502           549.313828  \n",
       "max                6.922689           765.518462  "
      ]
     },
     "execution_count": 24,
     "metadata": {},
     "output_type": "execute_result"
    }
   ],
   "source": [
    "customers.describe()"
   ]
  },
  {
   "cell_type": "code",
   "execution_count": 28,
   "metadata": {},
   "outputs": [
    {
     "data": {
      "text/plain": [
       "<seaborn.axisgrid.JointGrid at 0x1a23b0ba20>"
      ]
     },
     "execution_count": 28,
     "metadata": {},
     "output_type": "execute_result"
    },
    {
     "data": {
      "image/png": "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\n",
      "text/plain": [
       "<Figure size 432x432 with 3 Axes>"
      ]
     },
     "metadata": {
      "needs_background": "light"
     },
     "output_type": "display_data"
    }
   ],
   "source": [
    "sns.jointplot(x='Time on Website', y='Yearly Amount Spent', data=customers)"
   ]
  },
  {
   "cell_type": "code",
   "execution_count": 29,
   "metadata": {},
   "outputs": [
    {
     "data": {
      "text/plain": [
       "<seaborn.axisgrid.JointGrid at 0x1a239edb70>"
      ]
     },
     "execution_count": 29,
     "metadata": {},
     "output_type": "execute_result"
    },
    {
     "data": {
      "image/png": "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\n",
      "text/plain": [
       "<Figure size 432x432 with 3 Axes>"
      ]
     },
     "metadata": {
      "needs_background": "light"
     },
     "output_type": "display_data"
    }
   ],
   "source": [
    "sns.jointplot(x='Time on App', y='Yearly Amount Spent', data=customers)"
   ]
  },
  {
   "cell_type": "code",
   "execution_count": 30,
   "metadata": {},
   "outputs": [
    {
     "data": {
      "text/plain": [
       "<seaborn.axisgrid.JointGrid at 0x1a23d66c88>"
      ]
     },
     "execution_count": 30,
     "metadata": {},
     "output_type": "execute_result"
    },
    {
     "data": {
      "image/png": "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