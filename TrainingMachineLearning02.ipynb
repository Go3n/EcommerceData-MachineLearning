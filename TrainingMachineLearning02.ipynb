{
 "cells": [
  {
   "cell_type": "markdown",
   "metadata": {},
   "source": [
    "# Linear Regression - Project\n",
    "\n",
    "You are an employment contract with a New York City company, but it also has a style and fashion consulting service in the store. Clients enter a store, have sessions / visits to a personal stylist, then can be directed to the house and receive a mobile application or website for a clothing they desire.\n",
    "\n",
    "The company is trying to get away from its experience in creating its own windows or on its website. They hired you without a contract to help them figure it out! Let's start!\n",
    "\n",
    "Just follow the steps below to analyze customer data (if it is, do not worry, do not have actual numbers for credit cards or emails)."
   ]
  },
  {
   "cell_type": "markdown",
   "metadata": {},
   "source": [
    "## Imports\n",